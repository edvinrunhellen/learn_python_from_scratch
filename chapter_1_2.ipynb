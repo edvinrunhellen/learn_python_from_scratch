{
 "cells": [
  {
   "cell_type": "code",
   "execution_count": 1,
   "id": "7725e7b0-37ed-4d94-8486-dae2ceb23b85",
   "metadata": {},
   "outputs": [
    {
     "name": "stdout",
     "output_type": "stream",
     "text": [
      "8\n"
     ]
    }
   ],
   "source": [
    "num_1 = 5\n",
    "num_2 = 3\n",
    "sum = num_1 + num_2\n",
    "print(sum)"
   ]
  },
  {
   "cell_type": "code",
   "execution_count": 55,
   "id": "03392f25-ae8b-4f2a-b121-aa53a6b9f508",
   "metadata": {},
   "outputs": [
    {
     "name": "stdout",
     "output_type": "stream",
     "text": [
      "70\n"
     ]
    }
   ],
   "source": [
    "number_1 = 10\n",
    "number_2 = 7\n",
    "multiply = number_1 * number_2\n",
    "print(multiply)"
   ]
  },
  {
   "cell_type": "code",
   "execution_count": 56,
   "id": "46a00a88-7010-4f1d-91b1-db45fe6c6651",
   "metadata": {},
   "outputs": [
    {
     "data": {
      "text/plain": [
       "1"
      ]
     },
     "execution_count": 56,
     "metadata": {},
     "output_type": "execute_result"
    }
   ],
   "source": [
    "10 % 3"
   ]
  },
  {
   "cell_type": "code",
   "execution_count": 57,
   "id": "d27606a7-86df-4943-b881-05a4066a5e7b",
   "metadata": {},
   "outputs": [
    {
     "data": {
      "text/plain": [
       "4"
      ]
     },
     "execution_count": 57,
     "metadata": {},
     "output_type": "execute_result"
    }
   ],
   "source": [
    "27//6"
   ]
  },
  {
   "cell_type": "raw",
   "id": "d7ea6833-d857-4272-9daa-8676f621733d",
   "metadata": {},
   "source": [
    "print(\"it's fun to learn python!\")"
   ]
  },
  {
   "cell_type": "code",
   "execution_count": 58,
   "id": "24852ce8-f667-4b30-9385-800daf067a7d",
   "metadata": {},
   "outputs": [
    {
     "name": "stdout",
     "output_type": "stream",
     "text": [
      "hahaha\n"
     ]
    }
   ],
   "source": [
    "print(\"ha\"*3)"
   ]
  },
  {
   "cell_type": "code",
   "execution_count": 59,
   "id": "0181baee-b402-46f2-96da-e4d80fa88b5a",
   "metadata": {},
   "outputs": [
    {
     "name": "stdout",
     "output_type": "stream",
     "text": [
      "Anna\n"
     ]
    }
   ],
   "source": [
    "full_name = \"Anna Andersson\"\n",
    "first_name = full_name[0: 4]\n",
    "print(first_name)"
   ]
  },
  {
   "cell_type": "code",
   "execution_count": 60,
   "id": "ae7c45d8-35c0-4326-bb75-f295b97f5fcb",
   "metadata": {},
   "outputs": [
    {
     "name": "stdout",
     "output_type": "stream",
     "text": [
      "14\n"
     ]
    }
   ],
   "source": [
    "full_name = \"Anna Andersson\"\n",
    "x = len(full_name)\n",
    "print(x)"
   ]
  },
  {
   "cell_type": "code",
   "execution_count": 61,
   "id": "77cfa100-7d6c-46af-b403-9638313baad2",
   "metadata": {},
   "outputs": [
    {
     "name": "stdout",
     "output_type": "stream",
     "text": [
      "Hello Guido, Python is really fun to learn!\n"
     ]
    }
   ],
   "source": [
    "founder = \"Guido\"\n",
    "language = \"Python\"\n",
    "print(f\"Hello {founder}, {language} is really fun to learn!\")"
   ]
  },
  {
   "cell_type": "code",
   "execution_count": 62,
   "id": "61cdf9a7-1c2f-49ce-9455-7284d075e1e2",
   "metadata": {},
   "outputs": [
    {
     "name": "stdout",
     "output_type": "stream",
     "text": [
      "(10, 5, 1, 3)\n"
     ]
    }
   ],
   "source": [
    "my_first_tuple = (10, 5, 1, 3)\n",
    "#cant change value in tuple\n",
    "print(my_first_tuple)"
   ]
  },
  {
   "cell_type": "code",
   "execution_count": 63,
   "id": "5428a22f-3ba9-4e2e-8917-5f0da85812b2",
   "metadata": {},
   "outputs": [
    {
     "name": "stdout",
     "output_type": "stream",
     "text": [
      "languages\n",
      "apples\n",
      "C\n"
     ]
    }
   ],
   "source": [
    "my_tuple = ('languages', ['Python', 'Java', 'C', 'R'], 'apples')\n",
    "print(my_tuple[0])\n",
    "print(my_tuple[-1])\n",
    "print(my_tuple[1][2])"
   ]
  },
  {
   "cell_type": "code",
   "execution_count": 64,
   "id": "933d6270-977b-47ae-8156-70d0f8e0a9ef",
   "metadata": {},
   "outputs": [
    {
     "data": {
      "text/plain": [
       "tuple"
      ]
     },
     "execution_count": 64,
     "metadata": {},
     "output_type": "execute_result"
    }
   ],
   "source": [
    "type(my_tuple)"
   ]
  },
  {
   "cell_type": "code",
   "execution_count": 65,
   "id": "7795f69a-f91d-4d18-afbc-b246deb8b304",
   "metadata": {},
   "outputs": [
    {
     "data": {
      "text/plain": [
       "list"
      ]
     },
     "execution_count": 65,
     "metadata": {},
     "output_type": "execute_result"
    }
   ],
   "source": [
    "my_first_list =[10, 5, 'hi', 3]\n",
    "type(my_first_list)"
   ]
  },
  {
   "cell_type": "code",
   "execution_count": 66,
   "id": "eaaaa564-4f16-424e-999e-492216d5f74d",
   "metadata": {},
   "outputs": [
    {
     "name": "stdout",
     "output_type": "stream",
     "text": [
      "[10, 7, 'hi', 3]\n"
     ]
    }
   ],
   "source": [
    "my_first_list[1] = 7\n",
    "print(my_first_list)"
   ]
  },
  {
   "cell_type": "code",
   "execution_count": 67,
   "id": "dd2116d4-36e1-4e3c-9d1d-9138e81e1faf",
   "metadata": {},
   "outputs": [
    {
     "data": {
      "text/plain": [
       "5"
      ]
     },
     "execution_count": 67,
     "metadata": {},
     "output_type": "execute_result"
    }
   ],
   "source": [
    "shopping_list = ['apple', 'banana', 'grapes', 'eggs', 'milk']\n",
    "len(shopping_list)"
   ]
  },
  {
   "cell_type": "code",
   "execution_count": 33,
   "id": "462b1ad6-7769-445e-a232-7d67e3e6fefe",
   "metadata": {},
   "outputs": [
    {
     "name": "stdout",
     "output_type": "stream",
     "text": [
      "['apple', 'banana', 'grapes', 'eggs', 'milk', 'bread']\n"
     ]
    }
   ],
   "source": [
    "shopping_list.append('bread')\n",
    "print(shopping_list)"
   ]
  },
  {
   "cell_type": "code",
   "execution_count": 1,
   "id": "eed92a09-57c1-4902-93bc-ac8a3f3d0e6f",
   "metadata": {
    "jupyter": {
     "source_hidden": true
    }
   },
   "outputs": [
    {
     "name": "stdout",
     "output_type": "stream",
     "text": [
      "8\n"
     ]
    }
   ],
   "source": [
    "num_1 = 5\n",
    "num_2 = 3\n",
    "sum = num_1 + num_2\n",
    "print(sum)"
   ]
  },
  {
   "cell_type": "code",
   "execution_count": null,
   "id": "9003c947-5841-410f-a183-a85c9803b623",
   "metadata": {},
   "outputs": [],
   "source": []
  },
  {
   "cell_type": "code",
   "execution_count": 35,
   "id": "80e06b4d-0677-4644-a9f5-dc36ec99a6f1",
   "metadata": {},
   "outputs": [
    {
     "data": {
      "text/plain": [
       "3"
      ]
     },
     "execution_count": 35,
     "metadata": {},
     "output_type": "execute_result"
    }
   ],
   "source": [
    "my_numbers = [1, 7, 2, 7, 10, 7]\n",
    "my_numbers.count(7)"
   ]
  },
  {
   "cell_type": "code",
   "execution_count": 38,
   "id": "b38fb3be-60b8-4a46-8c37-e0ad00626201",
   "metadata": {},
   "outputs": [
    {
     "name": "stdout",
     "output_type": "stream",
     "text": [
      "[10, 5, 3]\n"
     ]
    }
   ],
   "source": [
    " one_tuple = (10, 5, 3)\n",
    "one_list = list(one_tuple)\n",
    "print(one_list)"
   ]
  },
  {
   "cell_type": "code",
   "execution_count": 39,
   "id": "a2cdfe03-2a24-48f3-ab32-cd2f4c846686",
   "metadata": {},
   "outputs": [
    {
     "data": {
      "text/plain": [
       "19"
      ]
     },
     "execution_count": 39,
     "metadata": {},
     "output_type": "execute_result"
    }
   ],
   "source": [
    "my_first_dict = {'Anna': 38, 'Goran': 19, 'Lennart': 59, 'Halimah': 28}\n",
    "my_first_dict['Goran']"
   ]
  },
  {
   "cell_type": "code",
   "execution_count": 40,
   "id": "504ceb38-0111-4aad-a6a5-3b69ea8b0963",
   "metadata": {},
   "outputs": [
    {
     "data": {
      "text/plain": [
       "dict"
      ]
     },
     "execution_count": 40,
     "metadata": {},
     "output_type": "execute_result"
    }
   ],
   "source": [
    "type(my_first_dict)"
   ]
  },
  {
   "cell_type": "code",
   "execution_count": 43,
   "id": "e78eebef-9197-4583-bafb-baebad79bb8f",
   "metadata": {},
   "outputs": [
    {
     "name": "stdout",
     "output_type": "stream",
     "text": [
      "{10, 2, 5}\n"
     ]
    }
   ],
   "source": [
    "my_set = {10, 5, 2, 5, 5}\n",
    "print(my_set)"
   ]
  },
  {
   "cell_type": "code",
   "execution_count": 46,
   "id": "8ca2b7a5-cb0c-4b43-a13c-98167ba69e52",
   "metadata": {},
   "outputs": [
    {
     "data": {
      "text/plain": [
       "set"
      ]
     },
     "execution_count": 46,
     "metadata": {},
     "output_type": "execute_result"
    }
   ],
   "source": [
    "type(my_set)"
   ]
  },
  {
   "cell_type": "code",
   "execution_count": 47,
   "id": "6ba28224-2a9f-4c3a-8d36-a247df1e5cc4",
   "metadata": {},
   "outputs": [
    {
     "name": "stdout",
     "output_type": "stream",
     "text": [
      "{5}\n"
     ]
    }
   ],
   "source": [
    "A = {1, 2, 3, 4, 5}\n",
    "B = {5, 6, 7, 8}\n",
    "C = A.intersection(B)\n",
    "print(C)"
   ]
  },
  {
   "cell_type": "code",
   "execution_count": 48,
   "id": "95ab74dc-8076-4611-9551-fb3208aeab20",
   "metadata": {},
   "outputs": [
    {
     "name": "stdout",
     "output_type": "stream",
     "text": [
      "{1, 2, 3, 4, 5, 6, 7, 8}\n"
     ]
    }
   ],
   "source": [
    "D = A.union(B)\n",
    "print(D)"
   ]
  },
  {
   "cell_type": "code",
   "execution_count": 49,
   "id": "b51909b5-2ac7-4d31-a2c5-d5edefa42c92",
   "metadata": {},
   "outputs": [
    {
     "name": "stdout",
     "output_type": "stream",
     "text": [
      "{1, 2, 3, 4}\n"
     ]
    }
   ],
   "source": [
    "E = A.difference(B)\n",
    "print(E)"
   ]
  },
  {
   "cell_type": "code",
   "execution_count": 52,
   "id": "951e38a2-5e9d-42e0-b0cb-3d29f86a5b81",
   "metadata": {
    "jupyter": {
     "source_hidden": true
    }
   },
   "outputs": [
    {
     "data": {
      "text/plain": [
       "{5}"
      ]
     },
     "execution_count": 52,
     "metadata": {},
     "output_type": "execute_result"
    }
   ],
   "source": [
    "list_a = [1, 2, 3, 4, 5]\n",
    "list_b = [5, 6, 10, 21]\n",
    "my_set = set(list_a)\n",
    "my_set_2 = set(list_b)\n",
    "my_set.intersection(my_set_2)"
   ]
  },
  {
   "cell_type": "code",
   "execution_count": 53,
   "id": "1883de57-78c1-4a3b-9288-68c4466eef78",
   "metadata": {},
   "outputs": [
    {
     "data": {
      "text/plain": [
       "{1, 2, 3, 4, 5, 6, 10, 21}"
      ]
     },
     "execution_count": 53,
     "metadata": {},
     "output_type": "execute_result"
    }
   ],
   "source": [
    "my_set.union(my_set_2)"
   ]
  },
  {
   "cell_type": "code",
   "execution_count": 54,
   "id": "7eb48e0f-0050-4620-a9cd-cd48aea5f064",
   "metadata": {
    "jupyter": {
     "source_hidden": true
    }
   },
   "outputs": [
    {
     "name": "stdout",
     "output_type": "stream",
     "text": [
      "{1, 10, 2}\n"
     ]
    }
   ],
   "source": [
    "duplicate_values = (10, 2, 2, 10, 1)\n",
    "my_3_set = set(duplicate_values)\n",
    "print(my_3_set)"
   ]
  },
  {
   "cell_type": "code",
   "execution_count": null,
   "id": "9d185053-79c7-420a-bc2f-dac949bbc184",
   "metadata": {},
   "outputs": [],
   "source": []
  }
 ],
 "metadata": {
  "kernelspec": {
   "display_name": "Python 3 (ipykernel)",
   "language": "python",
   "name": "python3"
  },
  "language_info": {
   "codemirror_mode": {
    "name": "ipython",
    "version": 3
   },
   "file_extension": ".py",
   "mimetype": "text/x-python",
   "name": "python",
   "nbconvert_exporter": "python",
   "pygments_lexer": "ipython3",
   "version": "3.12.7"
  }
 },
 "nbformat": 4,
 "nbformat_minor": 5
}
